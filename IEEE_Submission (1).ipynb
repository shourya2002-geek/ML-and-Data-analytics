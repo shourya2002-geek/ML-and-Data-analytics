{
  "nbformat": 4,
  "nbformat_minor": 0,
  "metadata": {
    "colab": {
      "name": "IEEE Submission.ipynb",
      "provenance": []
    },
    "kernelspec": {
      "name": "python3",
      "display_name": "Python 3"
    },
    "language_info": {
      "name": "python"
    }
  },
  "cells": [
    {
      "cell_type": "code",
      "metadata": {
        "id": "K6hwuRkZXfLk"
      },
      "source": [
        "##importing required packages\n",
        "import numpy as np\n",
        "import pandas as pd\n",
        "from pandas_profiling import ProfileReport\n",
        "from xgboost import XGBClassifier\n",
        "from sklearn.metrics import mean_squared_error\n",
        "from sklearn.metrics import accuracy_score\n",
        "from sklearn.model_selection import cross_val_score\n",
        "from sklearn.model_selection import RepeatedKFold,KFold\n",
        "from numpy import absolute\n",
        "from numpy import mean\n",
        "from numpy import std"
      ],
      "execution_count": 1,
      "outputs": []
    },
    {
      "cell_type": "code",
      "metadata": {
        "colab": {
          "base_uri": "https://localhost:8080/"
        },
        "id": "NOUamA8EXvT-",
        "outputId": "c06ca6c5-6ad2-4b7c-e540-4d451e17da61"
      },
      "source": [
        "##mounting google drive\n",
        "from google.colab import drive\n",
        "drive.mount('/content/drive')"
      ],
      "execution_count": 2,
      "outputs": [
        {
          "output_type": "stream",
          "text": [
            "Mounted at /content/drive\n"
          ],
          "name": "stdout"
        }
      ]
    },
    {
      "cell_type": "code",
      "metadata": {
        "id": "bf0UNoXtdbzv"
      },
      "source": [
        "##reading dataset into pandas dataframe\n",
        "df=pd.read_csv(\"/content/drive/MyDrive/Data/Default_Fin.csv\")"
      ],
      "execution_count": 3,
      "outputs": []
    },
    {
      "cell_type": "code",
      "metadata": {
        "colab": {
          "base_uri": "https://localhost:8080/",
          "height": 204
        },
        "id": "hML8Iw9HebH0",
        "outputId": "d369f0ec-3016-48b2-d256-6c6b40317669"
      },
      "source": [
        "df.head()"
      ],
      "execution_count": null,
      "outputs": [
        {
          "output_type": "execute_result",
          "data": {
            "text/html": [
              "<div>\n",
              "<style scoped>\n",
              "    .dataframe tbody tr th:only-of-type {\n",
              "        vertical-align: middle;\n",
              "    }\n",
              "\n",
              "    .dataframe tbody tr th {\n",
              "        vertical-align: top;\n",
              "    }\n",
              "\n",
              "    .dataframe thead th {\n",
              "        text-align: right;\n",
              "    }\n",
              "</style>\n",
              "<table border=\"1\" class=\"dataframe\">\n",
              "  <thead>\n",
              "    <tr style=\"text-align: right;\">\n",
              "      <th></th>\n",
              "      <th>Index</th>\n",
              "      <th>Employed</th>\n",
              "      <th>Bank Balance</th>\n",
              "      <th>Annual Salary</th>\n",
              "      <th>Defaulted?</th>\n",
              "    </tr>\n",
              "  </thead>\n",
              "  <tbody>\n",
              "    <tr>\n",
              "      <th>0</th>\n",
              "      <td>1</td>\n",
              "      <td>1</td>\n",
              "      <td>8754.36</td>\n",
              "      <td>532339.56</td>\n",
              "      <td>0</td>\n",
              "    </tr>\n",
              "    <tr>\n",
              "      <th>1</th>\n",
              "      <td>2</td>\n",
              "      <td>0</td>\n",
              "      <td>9806.16</td>\n",
              "      <td>145273.56</td>\n",
              "      <td>0</td>\n",
              "    </tr>\n",
              "    <tr>\n",
              "      <th>2</th>\n",
              "      <td>3</td>\n",
              "      <td>1</td>\n",
              "      <td>12882.60</td>\n",
              "      <td>381205.68</td>\n",
              "      <td>0</td>\n",
              "    </tr>\n",
              "    <tr>\n",
              "      <th>3</th>\n",
              "      <td>4</td>\n",
              "      <td>1</td>\n",
              "      <td>6351.00</td>\n",
              "      <td>428453.88</td>\n",
              "      <td>0</td>\n",
              "    </tr>\n",
              "    <tr>\n",
              "      <th>4</th>\n",
              "      <td>5</td>\n",
              "      <td>1</td>\n",
              "      <td>9427.92</td>\n",
              "      <td>461562.00</td>\n",
              "      <td>0</td>\n",
              "    </tr>\n",
              "  </tbody>\n",
              "</table>\n",
              "</div>"
            ],
            "text/plain": [
              "   Index  Employed  Bank Balance  Annual Salary  Defaulted?\n",
              "0      1         1       8754.36      532339.56           0\n",
              "1      2         0       9806.16      145273.56           0\n",
              "2      3         1      12882.60      381205.68           0\n",
              "3      4         1       6351.00      428453.88           0\n",
              "4      5         1       9427.92      461562.00           0"
            ]
          },
          "metadata": {
            "tags": []
          },
          "execution_count": 4
        }
      ]
    },
    {
      "cell_type": "code",
      "metadata": {
        "id": "9LdhpjjJec5x"
      },
      "source": [
        "##dropped Index column, since it does not affect the target\n",
        "df.drop(['Index'],axis=1,inplace=True)"
      ],
      "execution_count": 4,
      "outputs": []
    },
    {
      "cell_type": "code",
      "metadata": {
        "id": "SeIG1kjeewRF"
      },
      "source": [
        "##splitting the dataset into dependent and independent features\n",
        "X = df.drop(['Defaulted?'],axis=1)\n",
        "Y = df['Defaulted?']"
      ],
      "execution_count": 5,
      "outputs": []
    },
    {
      "cell_type": "code",
      "metadata": {
        "id": "eSafZUxof7KV"
      },
      "source": [
        "##splitting the dataset into train and test sets, using train_test_split from sklearn\n",
        "from sklearn.model_selection import train_test_split\n",
        "\n",
        "X_train,X_test,Y_train,Y_test = train_test_split(X,Y,test_size=0.3,random_state=42)"
      ],
      "execution_count": 6,
      "outputs": []
    },
    {
      "cell_type": "code",
      "metadata": {
        "colab": {
          "base_uri": "https://localhost:8080/"
        },
        "id": "D3f7p5ppgAhy",
        "outputId": "a3b8365d-94e9-47c6-fba3-232b1c694ede"
      },
      "source": [
        "##using XGBoost Classifier\n",
        "model_xgb = XGBClassifier(n_estimators=500)\n",
        "model_xgb.fit(X,Y)"
      ],
      "execution_count": 7,
      "outputs": [
        {
          "output_type": "execute_result",
          "data": {
            "text/plain": [
              "XGBClassifier(base_score=0.5, booster='gbtree', colsample_bylevel=1,\n",
              "              colsample_bynode=1, colsample_bytree=1, gamma=0,\n",
              "              learning_rate=0.1, max_delta_step=0, max_depth=3,\n",
              "              min_child_weight=1, missing=None, n_estimators=500, n_jobs=1,\n",
              "              nthread=None, objective='binary:logistic', random_state=0,\n",
              "              reg_alpha=0, reg_lambda=1, scale_pos_weight=1, seed=None,\n",
              "              silent=None, subsample=1, verbosity=1)"
            ]
          },
          "metadata": {
            "tags": []
          },
          "execution_count": 7
        }
      ]
    },
    {
      "cell_type": "code",
      "metadata": {
        "id": "JNbxj1RO01G4"
      },
      "source": [
        "Y_pred1 = model_xgb.predict(X_train)"
      ],
      "execution_count": 8,
      "outputs": []
    },
    {
      "cell_type": "code",
      "metadata": {
        "id": "miaoOpQ4gfur"
      },
      "source": [
        "Y_pred2 = model_xgb.predict(X_test)"
      ],
      "execution_count": 9,
      "outputs": []
    },
    {
      "cell_type": "code",
      "metadata": {
        "colab": {
          "base_uri": "https://localhost:8080/"
        },
        "id": "rZLZV7THg03Y",
        "outputId": "0ec0f2f2-3911-46b7-89f8-cb50c3a13044"
      },
      "source": [
        "accuracy_score(Y_train, Y_pred1) ##accuracy score for training"
      ],
      "execution_count": 10,
      "outputs": [
        {
          "output_type": "execute_result",
          "data": {
            "text/plain": [
              "0.9805714285714285"
            ]
          },
          "metadata": {
            "tags": []
          },
          "execution_count": 10
        }
      ]
    },
    {
      "cell_type": "code",
      "metadata": {
        "id": "2YoXaPXmiJAY",
        "colab": {
          "base_uri": "https://localhost:8080/"
        },
        "outputId": "0d2e9a05-f34f-4737-866a-8ed893e16eed"
      },
      "source": [
        "accuracy_score(Y_test, Y_pred2)  ##accuracy score for testing"
      ],
      "execution_count": 11,
      "outputs": [
        {
          "output_type": "execute_result",
          "data": {
            "text/plain": [
              "0.98"
            ]
          },
          "metadata": {
            "tags": []
          },
          "execution_count": 11
        }
      ]
    },
    {
      "cell_type": "code",
      "metadata": {
        "colab": {
          "base_uri": "https://localhost:8080/"
        },
        "id": "imDQQkqk2bQb",
        "outputId": "b02ad090-31cf-4476-8445-b1cdb7a0ef22"
      },
      "source": [
        "model = XGBClassifier()\n",
        "cv = KFold(n_splits=11, random_state=1)\n",
        "accuracy = cross_val_score(model, X, Y, scoring='accuracy', cv = cv)\n",
        "print(accuracy.mean()). ##using cross validation\n"
      ],
      "execution_count": 13,
      "outputs": [
        {
          "output_type": "stream",
          "text": [
            "/usr/local/lib/python3.7/dist-packages/sklearn/model_selection/_split.py:296: FutureWarning: Setting a random_state has no effect since shuffle is False. This will raise an error in 0.24. You should leave random_state to its default (None), or set shuffle=True.\n",
            "  FutureWarning\n"
          ],
          "name": "stderr"
        },
        {
          "output_type": "stream",
          "text": [
            "0.9720999572484721\n"
          ],
          "name": "stdout"
        }
      ]
    },
    {
      "cell_type": "code",
      "metadata": {
        "id": "zGGq1Z2jIX9n"
      },
      "source": [
        ""
      ],
      "execution_count": null,
      "outputs": []
    }
  ]
}