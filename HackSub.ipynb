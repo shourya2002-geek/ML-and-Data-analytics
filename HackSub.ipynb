{
  "nbformat": 4,
  "nbformat_minor": 0,
  "metadata": {
    "kernelspec": {
      "display_name": "Python 3",
      "language": "python",
      "name": "python3"
    },
    "language_info": {
      "codemirror_mode": {
        "name": "ipython",
        "version": 3
      },
      "file_extension": ".py",
      "mimetype": "text/x-python",
      "name": "python",
      "nbconvert_exporter": "python",
      "pygments_lexer": "ipython3",
      "version": "3.8.5"
    },
    "colab": {
      "name": "HackSub.ipynb",
      "provenance": [],
      "collapsed_sections": [],
      "include_colab_link": true
    }
  },
  "cells": [
    {
      "cell_type": "markdown",
      "metadata": {
        "id": "view-in-github",
        "colab_type": "text"
      },
      "source": [
        "<a href=\"https://colab.research.google.com/github/shourya2002-geek/ML-and-Data-analytics/blob/ML-Projects/HackSub.ipynb\" target=\"_parent\"><img src=\"https://colab.research.google.com/assets/colab-badge.svg\" alt=\"Open In Colab\"/></a>"
      ]
    },
    {
      "cell_type": "code",
      "metadata": {
        "id": "R4jn5MSfbLa3"
      },
      "source": [
        "import pandas as pd\n",
        "import numpy as np\n",
        "from pandas_profiling import ProfileReport\n",
        "import seaborn as sns\n",
        "import matplotlib.pyplot as plt\n",
        "from sklearn.feature_selection import mutual_info_regression\n",
        "from sklearn.preprocessing import LabelEncoder\n",
        "from sklearn.model_selection import train_test_split\n",
        "from sklearn.linear_model import LinearRegression\n",
        "from sklearn import metrics\n",
        "import xgboost as xgb\n",
        "\n"
      ],
      "execution_count": null,
      "outputs": []
    },
    {
      "cell_type": "code",
      "metadata": {
        "id": "58OXocW_bLbz"
      },
      "source": [
        "df = pd.read_csv('https://raw.githubusercontent.com/shourya2002-geek/ML-and-Data-analytics/Datasets/EarthTrain.csv')"
      ],
      "execution_count": null,
      "outputs": []
    },
    {
      "cell_type": "code",
      "metadata": {
        "id": "06mfHUe3bLb0"
      },
      "source": [
        "test = pd.read_csv('https://raw.githubusercontent.com/shourya2002-geek/ML-and-Data-analytics/Datasets/EarthTest.csv')\n",
        "deal = test['Deal_title']"
      ],
      "execution_count": null,
      "outputs": []
    },
    {
      "cell_type": "code",
      "metadata": {
        "scrolled": true,
        "colab": {
          "base_uri": "https://localhost:8080/",
          "height": 377
        },
        "id": "5NAcawMtbLb2",
        "outputId": "898509c4-5161-45aa-fd64-db0d13edcc8d"
      },
      "source": [
        "df.head()"
      ],
      "execution_count": null,
      "outputs": [
        {
          "output_type": "execute_result",
          "data": {
            "text/html": [
              "<div>\n",
              "<style scoped>\n",
              "    .dataframe tbody tr th:only-of-type {\n",
              "        vertical-align: middle;\n",
              "    }\n",
              "\n",
              "    .dataframe tbody tr th {\n",
              "        vertical-align: top;\n",
              "    }\n",
              "\n",
              "    .dataframe thead th {\n",
              "        text-align: right;\n",
              "    }\n",
              "</style>\n",
              "<table border=\"1\" class=\"dataframe\">\n",
              "  <thead>\n",
              "    <tr style=\"text-align: right;\">\n",
              "      <th></th>\n",
              "      <th>Deal_title</th>\n",
              "      <th>Lead_name</th>\n",
              "      <th>Industry</th>\n",
              "      <th>Deal_value</th>\n",
              "      <th>Weighted_amount</th>\n",
              "      <th>Date_of_creation</th>\n",
              "      <th>Pitch</th>\n",
              "      <th>Contact_no</th>\n",
              "      <th>Lead_revenue</th>\n",
              "      <th>Fund_category</th>\n",
              "      <th>Geography</th>\n",
              "      <th>Location</th>\n",
              "      <th>POC_name</th>\n",
              "      <th>Designation</th>\n",
              "      <th>Lead_POC_email</th>\n",
              "      <th>Hiring_candidate_role</th>\n",
              "      <th>Lead_source</th>\n",
              "      <th>Level_of_meeting</th>\n",
              "      <th>Last_lead_update</th>\n",
              "      <th>Internal_POC</th>\n",
              "      <th>Resource</th>\n",
              "      <th>Internal_rating</th>\n",
              "      <th>Success_probability</th>\n",
              "    </tr>\n",
              "  </thead>\n",
              "  <tbody>\n",
              "    <tr>\n",
              "      <th>0</th>\n",
              "      <td>TitleM5DZY</td>\n",
              "      <td>Davis, Perkins and Bishop Inc</td>\n",
              "      <td>Restaurants</td>\n",
              "      <td>320506$</td>\n",
              "      <td>2067263.7$</td>\n",
              "      <td>2020-03-29</td>\n",
              "      <td>Product_2</td>\n",
              "      <td>607.447.7883</td>\n",
              "      <td>50 - 100 Million</td>\n",
              "      <td>Category 2</td>\n",
              "      <td>USA</td>\n",
              "      <td>Killeen-Temple, TX</td>\n",
              "      <td>Charlene Werner</td>\n",
              "      <td>Executive Vice President</td>\n",
              "      <td>charlenewerner@davis.com</td>\n",
              "      <td>Community pharmacist</td>\n",
              "      <td>Website</td>\n",
              "      <td>Level 3</td>\n",
              "      <td>No track</td>\n",
              "      <td>Davis,Sharrice A</td>\n",
              "      <td>NaN</td>\n",
              "      <td>3</td>\n",
              "      <td>73.6</td>\n",
              "    </tr>\n",
              "    <tr>\n",
              "      <th>1</th>\n",
              "      <td>TitleKIW18</td>\n",
              "      <td>Bender PLC LLC</td>\n",
              "      <td>Construction Services</td>\n",
              "      <td>39488$</td>\n",
              "      <td>240876.8$</td>\n",
              "      <td>2019-07-10</td>\n",
              "      <td>Product_2</td>\n",
              "      <td>892-938-9493</td>\n",
              "      <td>500 Million - 1 Billion</td>\n",
              "      <td>Category 4</td>\n",
              "      <td>India</td>\n",
              "      <td>Ratlam</td>\n",
              "      <td>rakhi</td>\n",
              "      <td>Chairman/CEO/President</td>\n",
              "      <td>terrylogan@bender.com</td>\n",
              "      <td>Recruitment consultant</td>\n",
              "      <td>Others</td>\n",
              "      <td>Level 1</td>\n",
              "      <td>Did not hear back after Level 1</td>\n",
              "      <td>Brown,Maxine A</td>\n",
              "      <td>No</td>\n",
              "      <td>5</td>\n",
              "      <td>58.9</td>\n",
              "    </tr>\n",
              "    <tr>\n",
              "      <th>2</th>\n",
              "      <td>TitleFXSDN</td>\n",
              "      <td>Carter-Henry and Sons</td>\n",
              "      <td>Hospitals/Clinics</td>\n",
              "      <td>359392$</td>\n",
              "      <td>2407926.4$</td>\n",
              "      <td>2019-07-27</td>\n",
              "      <td>Product_1</td>\n",
              "      <td>538.748.2271</td>\n",
              "      <td>500 Million - 1 Billion</td>\n",
              "      <td>Category 4</td>\n",
              "      <td>USA</td>\n",
              "      <td>Albany-Schenectady-Troy, NY</td>\n",
              "      <td>Ariel Hamilton</td>\n",
              "      <td>SVP/General Counsel</td>\n",
              "      <td>arielhamilton@carterhenry.com</td>\n",
              "      <td>Health service manager</td>\n",
              "      <td>Marketing Event</td>\n",
              "      <td>Level 1</td>\n",
              "      <td>?</td>\n",
              "      <td>Georgakopoulos,Vasilios T</td>\n",
              "      <td>No</td>\n",
              "      <td>4</td>\n",
              "      <td>68.8</td>\n",
              "    </tr>\n",
              "    <tr>\n",
              "      <th>3</th>\n",
              "      <td>TitlePSK4Y</td>\n",
              "      <td>Garcia Ltd Ltd</td>\n",
              "      <td>Real Estate</td>\n",
              "      <td>76774$</td>\n",
              "      <td>468321.4$</td>\n",
              "      <td>2021-01-30</td>\n",
              "      <td>Product_2</td>\n",
              "      <td>(692)052-1389x75188</td>\n",
              "      <td>500 Million - 1 Billion</td>\n",
              "      <td>Category 3</td>\n",
              "      <td>USA</td>\n",
              "      <td>Mount Vernon-Anacortes, WA</td>\n",
              "      <td>Erin Wilson</td>\n",
              "      <td>CEO/Co-Founder/Chairman</td>\n",
              "      <td>erinwilson@garcia.com</td>\n",
              "      <td>Therapist, speech and language</td>\n",
              "      <td>Contact Email</td>\n",
              "      <td>Level 2</td>\n",
              "      <td>Did not hear back after Level 1</td>\n",
              "      <td>Brown,Maxine A</td>\n",
              "      <td>We have all the requirements</td>\n",
              "      <td>1</td>\n",
              "      <td>64.5</td>\n",
              "    </tr>\n",
              "    <tr>\n",
              "      <th>4</th>\n",
              "      <td>Title904GV</td>\n",
              "      <td>Lee and Sons PLC</td>\n",
              "      <td>Financial Services</td>\n",
              "      <td>483896$</td>\n",
              "      <td>NaN</td>\n",
              "      <td>2019-05-22</td>\n",
              "      <td>Product_2</td>\n",
              "      <td>001-878-814-6134x015</td>\n",
              "      <td>50 - 100 Million</td>\n",
              "      <td>Category 3</td>\n",
              "      <td>India</td>\n",
              "      <td>Shimoga</td>\n",
              "      <td>kavita</td>\n",
              "      <td>Executive Vice President</td>\n",
              "      <td>mr.christopher@lee.com</td>\n",
              "      <td>Media planner</td>\n",
              "      <td>Website</td>\n",
              "      <td>Level 2</td>\n",
              "      <td>Up-to-date</td>\n",
              "      <td>Thomas,Lori E</td>\n",
              "      <td>No</td>\n",
              "      <td>4</td>\n",
              "      <td>62.4</td>\n",
              "    </tr>\n",
              "  </tbody>\n",
              "</table>\n",
              "</div>"
            ],
            "text/plain": [
              "   Deal_title  ... Success_probability\n",
              "0  TitleM5DZY  ...                73.6\n",
              "1  TitleKIW18  ...                58.9\n",
              "2  TitleFXSDN  ...                68.8\n",
              "3  TitlePSK4Y  ...                64.5\n",
              "4  Title904GV  ...                62.4\n",
              "\n",
              "[5 rows x 23 columns]"
            ]
          },
          "metadata": {
            "tags": []
          },
          "execution_count": 172
        }
      ]
    },
    {
      "cell_type": "code",
      "metadata": {
        "colab": {
          "base_uri": "https://localhost:8080/"
        },
        "id": "UUGIMGv5bLb4",
        "outputId": "8e51ad1c-4994-4f16-9a8b-ae431dd87012"
      },
      "source": [
        "test.shape"
      ],
      "execution_count": null,
      "outputs": [
        {
          "output_type": "execute_result",
          "data": {
            "text/plain": [
              "(2093, 22)"
            ]
          },
          "metadata": {
            "tags": []
          },
          "execution_count": 217
        }
      ]
    },
    {
      "cell_type": "code",
      "metadata": {
        "colab": {
          "base_uri": "https://localhost:8080/"
        },
        "id": "x6UYg5-wbLb5",
        "outputId": "2329618c-93cf-4502-a824-241453cf20e8"
      },
      "source": [
        "pd.Series(df['Geography']).value_counts()"
      ],
      "execution_count": null,
      "outputs": [
        {
          "output_type": "execute_result",
          "data": {
            "text/plain": [
              "USA      3061\n",
              "India    2974\n",
              "Name: Geography, dtype: int64"
            ]
          },
          "metadata": {
            "tags": []
          },
          "execution_count": 174
        }
      ]
    },
    {
      "cell_type": "code",
      "metadata": {
        "colab": {
          "base_uri": "https://localhost:8080/"
        },
        "id": "MM_VmRbobLb7",
        "outputId": "190cfa6c-7380-4a81-c30a-a64bd68b20ad"
      },
      "source": [
        "type(df['Location'])"
      ],
      "execution_count": null,
      "outputs": [
        {
          "output_type": "execute_result",
          "data": {
            "text/plain": [
              "pandas.core.series.Series"
            ]
          },
          "metadata": {
            "tags": []
          },
          "execution_count": 175
        }
      ]
    },
    {
      "cell_type": "code",
      "metadata": {
        "colab": {
          "base_uri": "https://localhost:8080/"
        },
        "id": "JDw27Q4abLb8",
        "outputId": "52bffda6-5754-4a2c-c0d4-f8cdc4e56f58"
      },
      "source": [
        "pd.Series(df['Last_lead_update']).value_counts()"
      ],
      "execution_count": null,
      "outputs": [
        {
          "output_type": "execute_result",
          "data": {
            "text/plain": [
              "Following up but lead not responding    627\n",
              "Up-to-date                              623\n",
              "more than a month                       605\n",
              "No track                                601\n",
              "?                                       585\n",
              "5 days back                             564\n",
              "2 days back                             559\n",
              "More than 2 weeks                       556\n",
              "More than a week back                   554\n",
              "Did not hear back after Level 1         553\n",
              "Pending                                 547\n",
              "Name: Last_lead_update, dtype: int64"
            ]
          },
          "metadata": {
            "tags": []
          },
          "execution_count": 176
        }
      ]
    },
    {
      "cell_type": "code",
      "metadata": {
        "id": "5F3bV4CRbLb9"
      },
      "source": [
        "df1 = df.drop(columns=['Location', 'POC_name','Designation','Internal_POC','Deal_title','Lead_name','Date_of_creation','Contact_no','Lead_POC_email'])"
      ],
      "execution_count": null,
      "outputs": []
    },
    {
      "cell_type": "code",
      "metadata": {
        "id": "bhN_r86_bLb-"
      },
      "source": [
        "test1 = test.drop(columns=['Location', 'POC_name','Designation','Internal_POC','Deal_title','Lead_name','Date_of_creation','Contact_no','Lead_POC_email'])"
      ],
      "execution_count": null,
      "outputs": []
    },
    {
      "cell_type": "code",
      "metadata": {
        "colab": {
          "base_uri": "https://localhost:8080/",
          "height": 549
        },
        "id": "jlphUZtNbLb_",
        "outputId": "69d4a2ea-31f8-40e8-910c-456c39dbcc6a"
      },
      "source": [
        "df1.head(10)"
      ],
      "execution_count": null,
      "outputs": [
        {
          "output_type": "execute_result",
          "data": {
            "text/html": [
              "<div>\n",
              "<style scoped>\n",
              "    .dataframe tbody tr th:only-of-type {\n",
              "        vertical-align: middle;\n",
              "    }\n",
              "\n",
              "    .dataframe tbody tr th {\n",
              "        vertical-align: top;\n",
              "    }\n",
              "\n",
              "    .dataframe thead th {\n",
              "        text-align: right;\n",
              "    }\n",
              "</style>\n",
              "<table border=\"1\" class=\"dataframe\">\n",
              "  <thead>\n",
              "    <tr style=\"text-align: right;\">\n",
              "      <th></th>\n",
              "      <th>Industry</th>\n",
              "      <th>Deal_value</th>\n",
              "      <th>Weighted_amount</th>\n",
              "      <th>Pitch</th>\n",
              "      <th>Lead_revenue</th>\n",
              "      <th>Fund_category</th>\n",
              "      <th>Geography</th>\n",
              "      <th>Hiring_candidate_role</th>\n",
              "      <th>Lead_source</th>\n",
              "      <th>Level_of_meeting</th>\n",
              "      <th>Last_lead_update</th>\n",
              "      <th>Resource</th>\n",
              "      <th>Internal_rating</th>\n",
              "      <th>Success_probability</th>\n",
              "    </tr>\n",
              "  </thead>\n",
              "  <tbody>\n",
              "    <tr>\n",
              "      <th>0</th>\n",
              "      <td>Restaurants</td>\n",
              "      <td>320506$</td>\n",
              "      <td>2067263.7$</td>\n",
              "      <td>Product_2</td>\n",
              "      <td>50 - 100 Million</td>\n",
              "      <td>Category 2</td>\n",
              "      <td>USA</td>\n",
              "      <td>Community pharmacist</td>\n",
              "      <td>Website</td>\n",
              "      <td>Level 3</td>\n",
              "      <td>No track</td>\n",
              "      <td>NaN</td>\n",
              "      <td>3</td>\n",
              "      <td>73.6</td>\n",
              "    </tr>\n",
              "    <tr>\n",
              "      <th>1</th>\n",
              "      <td>Construction Services</td>\n",
              "      <td>39488$</td>\n",
              "      <td>240876.8$</td>\n",
              "      <td>Product_2</td>\n",
              "      <td>500 Million - 1 Billion</td>\n",
              "      <td>Category 4</td>\n",
              "      <td>India</td>\n",
              "      <td>Recruitment consultant</td>\n",
              "      <td>Others</td>\n",
              "      <td>Level 1</td>\n",
              "      <td>Did not hear back after Level 1</td>\n",
              "      <td>No</td>\n",
              "      <td>5</td>\n",
              "      <td>58.9</td>\n",
              "    </tr>\n",
              "    <tr>\n",
              "      <th>2</th>\n",
              "      <td>Hospitals/Clinics</td>\n",
              "      <td>359392$</td>\n",
              "      <td>2407926.4$</td>\n",
              "      <td>Product_1</td>\n",
              "      <td>500 Million - 1 Billion</td>\n",
              "      <td>Category 4</td>\n",
              "      <td>USA</td>\n",
              "      <td>Health service manager</td>\n",
              "      <td>Marketing Event</td>\n",
              "      <td>Level 1</td>\n",
              "      <td>?</td>\n",
              "      <td>No</td>\n",
              "      <td>4</td>\n",
              "      <td>68.8</td>\n",
              "    </tr>\n",
              "    <tr>\n",
              "      <th>3</th>\n",
              "      <td>Real Estate</td>\n",
              "      <td>76774$</td>\n",
              "      <td>468321.4$</td>\n",
              "      <td>Product_2</td>\n",
              "      <td>500 Million - 1 Billion</td>\n",
              "      <td>Category 3</td>\n",
              "      <td>USA</td>\n",
              "      <td>Therapist, speech and language</td>\n",
              "      <td>Contact Email</td>\n",
              "      <td>Level 2</td>\n",
              "      <td>Did not hear back after Level 1</td>\n",
              "      <td>We have all the requirements</td>\n",
              "      <td>1</td>\n",
              "      <td>64.5</td>\n",
              "    </tr>\n",
              "    <tr>\n",
              "      <th>4</th>\n",
              "      <td>Financial Services</td>\n",
              "      <td>483896$</td>\n",
              "      <td>NaN</td>\n",
              "      <td>Product_2</td>\n",
              "      <td>50 - 100 Million</td>\n",
              "      <td>Category 3</td>\n",
              "      <td>India</td>\n",
              "      <td>Media planner</td>\n",
              "      <td>Website</td>\n",
              "      <td>Level 2</td>\n",
              "      <td>Up-to-date</td>\n",
              "      <td>No</td>\n",
              "      <td>4</td>\n",
              "      <td>62.4</td>\n",
              "    </tr>\n",
              "    <tr>\n",
              "      <th>5</th>\n",
              "      <td>Banks</td>\n",
              "      <td>418674$</td>\n",
              "      <td>2637646.2$</td>\n",
              "      <td>Product_1</td>\n",
              "      <td>50 - 100 Million</td>\n",
              "      <td>Category 2</td>\n",
              "      <td>India</td>\n",
              "      <td>Microbiologist</td>\n",
              "      <td>Marketing Event</td>\n",
              "      <td>Level 3</td>\n",
              "      <td>2 days back</td>\n",
              "      <td>Deliverable</td>\n",
              "      <td>3</td>\n",
              "      <td>66.3</td>\n",
              "    </tr>\n",
              "    <tr>\n",
              "      <th>6</th>\n",
              "      <td>Banks</td>\n",
              "      <td>384356$</td>\n",
              "      <td>2709709.8$</td>\n",
              "      <td>Product_2</td>\n",
              "      <td>500 Million - 1 Billion</td>\n",
              "      <td>Category 1</td>\n",
              "      <td>NaN</td>\n",
              "      <td>Cartographer</td>\n",
              "      <td>Contact Email</td>\n",
              "      <td>Level 3</td>\n",
              "      <td>More than 2 weeks</td>\n",
              "      <td>NaN</td>\n",
              "      <td>4</td>\n",
              "      <td>73.4</td>\n",
              "    </tr>\n",
              "    <tr>\n",
              "      <th>7</th>\n",
              "      <td>Architecture/Engineering</td>\n",
              "      <td>245205$</td>\n",
              "      <td>1642873.5$</td>\n",
              "      <td>Product_2</td>\n",
              "      <td>500 Million - 1 Billion</td>\n",
              "      <td>Category 1</td>\n",
              "      <td>USA</td>\n",
              "      <td>Engineer, maintenance (IT)</td>\n",
              "      <td>Others</td>\n",
              "      <td>Level 2</td>\n",
              "      <td>5 days back</td>\n",
              "      <td>No</td>\n",
              "      <td>5</td>\n",
              "      <td>74.1</td>\n",
              "    </tr>\n",
              "    <tr>\n",
              "      <th>8</th>\n",
              "      <td>Education/Training</td>\n",
              "      <td>343280$</td>\n",
              "      <td>1991024.0$</td>\n",
              "      <td>Product_1</td>\n",
              "      <td>100 - 500 Million</td>\n",
              "      <td>Category 3</td>\n",
              "      <td>USA</td>\n",
              "      <td>Product/process development scientist</td>\n",
              "      <td>Contact Email</td>\n",
              "      <td>Level 1</td>\n",
              "      <td>No track</td>\n",
              "      <td>We have all the requirements</td>\n",
              "      <td>2</td>\n",
              "      <td>61.4</td>\n",
              "    </tr>\n",
              "    <tr>\n",
              "      <th>9</th>\n",
              "      <td>REIT</td>\n",
              "      <td>293611$</td>\n",
              "      <td>1791027.1$</td>\n",
              "      <td>Product_1</td>\n",
              "      <td>500 Million - 1 Billion</td>\n",
              "      <td>Category 3</td>\n",
              "      <td>USA</td>\n",
              "      <td>Engineering geologist</td>\n",
              "      <td>Contact Email</td>\n",
              "      <td>Level 1</td>\n",
              "      <td>more than a month</td>\n",
              "      <td>Deliverable</td>\n",
              "      <td>4</td>\n",
              "      <td>66.0</td>\n",
              "    </tr>\n",
              "  </tbody>\n",
              "</table>\n",
              "</div>"
            ],
            "text/plain": [
              "                   Industry Deal_value  ... Internal_rating Success_probability\n",
              "0               Restaurants    320506$  ...               3                73.6\n",
              "1     Construction Services     39488$  ...               5                58.9\n",
              "2         Hospitals/Clinics    359392$  ...               4                68.8\n",
              "3               Real Estate     76774$  ...               1                64.5\n",
              "4        Financial Services    483896$  ...               4                62.4\n",
              "5                     Banks    418674$  ...               3                66.3\n",
              "6                     Banks    384356$  ...               4                73.4\n",
              "7  Architecture/Engineering    245205$  ...               5                74.1\n",
              "8        Education/Training    343280$  ...               2                61.4\n",
              "9                      REIT    293611$  ...               4                66.0\n",
              "\n",
              "[10 rows x 14 columns]"
            ]
          },
          "metadata": {
            "tags": []
          },
          "execution_count": 179
        }
      ]
    },
    {
      "cell_type": "code",
      "metadata": {
        "id": "XO8FYSJebLcA"
      },
      "source": [
        ""
      ],
      "execution_count": null,
      "outputs": []
    },
    {
      "cell_type": "code",
      "metadata": {
        "colab": {
          "base_uri": "https://localhost:8080/",
          "height": 309
        },
        "id": "U7nIvoDVbLcJ",
        "outputId": "176c0051-5c28-4c2d-e5f0-d27eeb3b37dd"
      },
      "source": [
        "df1.head()"
      ],
      "execution_count": null,
      "outputs": [
        {
          "output_type": "execute_result",
          "data": {
            "text/html": [
              "<div>\n",
              "<style scoped>\n",
              "    .dataframe tbody tr th:only-of-type {\n",
              "        vertical-align: middle;\n",
              "    }\n",
              "\n",
              "    .dataframe tbody tr th {\n",
              "        vertical-align: top;\n",
              "    }\n",
              "\n",
              "    .dataframe thead th {\n",
              "        text-align: right;\n",
              "    }\n",
              "</style>\n",
              "<table border=\"1\" class=\"dataframe\">\n",
              "  <thead>\n",
              "    <tr style=\"text-align: right;\">\n",
              "      <th></th>\n",
              "      <th>Industry</th>\n",
              "      <th>Deal_value</th>\n",
              "      <th>Weighted_amount</th>\n",
              "      <th>Pitch</th>\n",
              "      <th>Lead_revenue</th>\n",
              "      <th>Fund_category</th>\n",
              "      <th>Geography</th>\n",
              "      <th>Hiring_candidate_role</th>\n",
              "      <th>Lead_source</th>\n",
              "      <th>Level_of_meeting</th>\n",
              "      <th>Last_lead_update</th>\n",
              "      <th>Resource</th>\n",
              "      <th>Internal_rating</th>\n",
              "      <th>Success_probability</th>\n",
              "    </tr>\n",
              "  </thead>\n",
              "  <tbody>\n",
              "    <tr>\n",
              "      <th>0</th>\n",
              "      <td>Restaurants</td>\n",
              "      <td>320506$</td>\n",
              "      <td>2067263.7$</td>\n",
              "      <td>Product_2</td>\n",
              "      <td>50 - 100 Million</td>\n",
              "      <td>Category 2</td>\n",
              "      <td>USA</td>\n",
              "      <td>Community pharmacist</td>\n",
              "      <td>Website</td>\n",
              "      <td>Level 3</td>\n",
              "      <td>No track</td>\n",
              "      <td>NaN</td>\n",
              "      <td>3</td>\n",
              "      <td>73.6</td>\n",
              "    </tr>\n",
              "    <tr>\n",
              "      <th>1</th>\n",
              "      <td>Construction Services</td>\n",
              "      <td>39488$</td>\n",
              "      <td>240876.8$</td>\n",
              "      <td>Product_2</td>\n",
              "      <td>500 Million - 1 Billion</td>\n",
              "      <td>Category 4</td>\n",
              "      <td>India</td>\n",
              "      <td>Recruitment consultant</td>\n",
              "      <td>Others</td>\n",
              "      <td>Level 1</td>\n",
              "      <td>Did not hear back after Level 1</td>\n",
              "      <td>No</td>\n",
              "      <td>5</td>\n",
              "      <td>58.9</td>\n",
              "    </tr>\n",
              "    <tr>\n",
              "      <th>2</th>\n",
              "      <td>Hospitals/Clinics</td>\n",
              "      <td>359392$</td>\n",
              "      <td>2407926.4$</td>\n",
              "      <td>Product_1</td>\n",
              "      <td>500 Million - 1 Billion</td>\n",
              "      <td>Category 4</td>\n",
              "      <td>USA</td>\n",
              "      <td>Health service manager</td>\n",
              "      <td>Marketing Event</td>\n",
              "      <td>Level 1</td>\n",
              "      <td>?</td>\n",
              "      <td>No</td>\n",
              "      <td>4</td>\n",
              "      <td>68.8</td>\n",
              "    </tr>\n",
              "    <tr>\n",
              "      <th>3</th>\n",
              "      <td>Real Estate</td>\n",
              "      <td>76774$</td>\n",
              "      <td>468321.4$</td>\n",
              "      <td>Product_2</td>\n",
              "      <td>500 Million - 1 Billion</td>\n",
              "      <td>Category 3</td>\n",
              "      <td>USA</td>\n",
              "      <td>Therapist, speech and language</td>\n",
              "      <td>Contact Email</td>\n",
              "      <td>Level 2</td>\n",
              "      <td>Did not hear back after Level 1</td>\n",
              "      <td>We have all the requirements</td>\n",
              "      <td>1</td>\n",
              "      <td>64.5</td>\n",
              "    </tr>\n",
              "    <tr>\n",
              "      <th>4</th>\n",
              "      <td>Financial Services</td>\n",
              "      <td>483896$</td>\n",
              "      <td>NaN</td>\n",
              "      <td>Product_2</td>\n",
              "      <td>50 - 100 Million</td>\n",
              "      <td>Category 3</td>\n",
              "      <td>India</td>\n",
              "      <td>Media planner</td>\n",
              "      <td>Website</td>\n",
              "      <td>Level 2</td>\n",
              "      <td>Up-to-date</td>\n",
              "      <td>No</td>\n",
              "      <td>4</td>\n",
              "      <td>62.4</td>\n",
              "    </tr>\n",
              "  </tbody>\n",
              "</table>\n",
              "</div>"
            ],
            "text/plain": [
              "                Industry Deal_value  ... Internal_rating Success_probability\n",
              "0            Restaurants    320506$  ...               3                73.6\n",
              "1  Construction Services     39488$  ...               5                58.9\n",
              "2      Hospitals/Clinics    359392$  ...               4                68.8\n",
              "3            Real Estate     76774$  ...               1                64.5\n",
              "4     Financial Services    483896$  ...               4                62.4\n",
              "\n",
              "[5 rows x 14 columns]"
            ]
          },
          "metadata": {
            "tags": []
          },
          "execution_count": 180
        }
      ]
    },
    {
      "cell_type": "code",
      "metadata": {
        "colab": {
          "base_uri": "https://localhost:8080/",
          "height": 530
        },
        "id": "nxxMePfBbLcK",
        "outputId": "dc651de8-cf39-4795-e656-0a5c879053f7"
      },
      "source": [
        "sns.pairplot(df1)"
      ],
      "execution_count": null,
      "outputs": [
        {
          "output_type": "execute_result",
          "data": {
            "text/plain": [
              "<seaborn.axisgrid.PairGrid at 0x7faa35473950>"
            ]
          },
          "metadata": {
            "tags": []
          },
          "execution_count": 181
        },
        {
          "output_type": "display_data",
          "data": {
            "image/png": "[encoded data removed]",
            "text/plain": [
              "<Figure size 500x500 with 6 Axes>"
            ]
          },
          "metadata": {
            "tags": []
          }
        }
      ]
    },
    {
      "cell_type": "code",
      "metadata": {
        "colab": {
          "base_uri": "https://localhost:8080/",
          "height": 511
        },
        "id": "217kcngVbLcL",
        "outputId": "85b65077-9e7a-4084-863e-fe32854d2b83"
      },
      "source": [
        "sns.heatmap(df1.corr())"
      ],
      "execution_count": null,
      "outputs": [
        {
          "output_type": "execute_result",
          "data": {
            "text/plain": [
              "<matplotlib.axes._subplots.AxesSubplot at 0x7faa34d95e50>"
            ]
          },
          "metadata": {
            "tags": []
          },
          "execution_count": 182
        },
        {
          "output_type": "display_data",
          "data": {
            "image/png": "[encoded data removed]",
            "text/plain": [
              "<Figure size 800x550 with 2 Axes>"
            ]
          },
          "metadata": {
            "tags": []
          }
        }
      ]
    },
    {
      "cell_type": "code",
      "metadata": {
        "id": "uwH5cwnjbLcM"
      },
      "source": [
        "df1=df1.drop(columns=['Weighted_amount','Geography','Last_lead_update','Industry','Hiring_candidate_role'],axis=1)\n",
        "test1=test1.drop(columns=['Weighted_amount','Geography','Last_lead_update','Industry','Hiring_candidate_role'],axis=1)"
      ],
      "execution_count": null,
      "outputs": []
    },
    {
      "cell_type": "code",
      "metadata": {
        "colab": {
          "base_uri": "https://localhost:8080/",
          "height": 204
        },
        "id": "QdLyvXcSbLcM",
        "outputId": "19940851-f71b-4615-93b7-8cec92f9468b"
      },
      "source": [
        "df1.head()"
      ],
      "execution_count": null,
      "outputs": [
        {
          "output_type": "execute_result",
          "data": {
            "text/html": [
              "<div>\n",
              "<style scoped>\n",
              "    .dataframe tbody tr th:only-of-type {\n",
              "        vertical-align: middle;\n",
              "    }\n",
              "\n",
              "    .dataframe tbody tr th {\n",
              "        vertical-align: top;\n",
              "    }\n",
              "\n",
              "    .dataframe thead th {\n",
              "        text-align: right;\n",
              "    }\n",
              "</style>\n",
              "<table border=\"1\" class=\"dataframe\">\n",
              "  <thead>\n",
              "    <tr style=\"text-align: right;\">\n",
              "      <th></th>\n",
              "      <th>Deal_value</th>\n",
              "      <th>Pitch</th>\n",
              "      <th>Lead_revenue</th>\n",
              "      <th>Fund_category</th>\n",
              "      <th>Lead_source</th>\n",
              "      <th>Level_of_meeting</th>\n",
              "      <th>Resource</th>\n",
              "      <th>Internal_rating</th>\n",
              "      <th>Success_probability</th>\n",
              "    </tr>\n",
              "  </thead>\n",
              "  <tbody>\n",
              "    <tr>\n",
              "      <th>0</th>\n",
              "      <td>320506$</td>\n",
              "      <td>Product_2</td>\n",
              "      <td>50 - 100 Million</td>\n",
              "      <td>Category 2</td>\n",
              "      <td>Website</td>\n",
              "      <td>Level 3</td>\n",
              "      <td>NaN</td>\n",
              "      <td>3</td>\n",
              "      <td>73.6</td>\n",
              "    </tr>\n",
              "    <tr>\n",
              "      <th>1</th>\n",
              "      <td>39488$</td>\n",
              "      <td>Product_2</td>\n",
              "      <td>500 Million - 1 Billion</td>\n",
              "      <td>Category 4</td>\n",
              "      <td>Others</td>\n",
              "      <td>Level 1</td>\n",
              "      <td>No</td>\n",
              "      <td>5</td>\n",
              "      <td>58.9</td>\n",
              "    </tr>\n",
              "    <tr>\n",
              "      <th>2</th>\n",
              "      <td>359392$</td>\n",
              "      <td>Product_1</td>\n",
              "      <td>500 Million - 1 Billion</td>\n",
              "      <td>Category 4</td>\n",
              "      <td>Marketing Event</td>\n",
              "      <td>Level 1</td>\n",
              "      <td>No</td>\n",
              "      <td>4</td>\n",
              "      <td>68.8</td>\n",
              "    </tr>\n",
              "    <tr>\n",
              "      <th>3</th>\n",
              "      <td>76774$</td>\n",
              "      <td>Product_2</td>\n",
              "      <td>500 Million - 1 Billion</td>\n",
              "      <td>Category 3</td>\n",
              "      <td>Contact Email</td>\n",
              "      <td>Level 2</td>\n",
              "      <td>We have all the requirements</td>\n",
              "      <td>1</td>\n",
              "      <td>64.5</td>\n",
              "    </tr>\n",
              "    <tr>\n",
              "      <th>4</th>\n",
              "      <td>483896$</td>\n",
              "      <td>Product_2</td>\n",
              "      <td>50 - 100 Million</td>\n",
              "      <td>Category 3</td>\n",
              "      <td>Website</td>\n",
              "      <td>Level 2</td>\n",
              "      <td>No</td>\n",
              "      <td>4</td>\n",
              "      <td>62.4</td>\n",
              "    </tr>\n",
              "  </tbody>\n",
              "</table>\n",
              "</div>"
            ],
            "text/plain": [
              "  Deal_value      Pitch  ... Internal_rating Success_probability\n",
              "0    320506$  Product_2  ...               3                73.6\n",
              "1     39488$  Product_2  ...               5                58.9\n",
              "2    359392$  Product_1  ...               4                68.8\n",
              "3     76774$  Product_2  ...               1                64.5\n",
              "4    483896$  Product_2  ...               4                62.4\n",
              "\n",
              "[5 rows x 9 columns]"
            ]
          },
          "metadata": {
            "tags": []
          },
          "execution_count": 184
        }
      ]
    },
    {
      "cell_type": "code",
      "metadata": {
        "colab": {
          "base_uri": "https://localhost:8080/",
          "height": 204
        },
        "id": "VjP0c3IMbLcN",
        "outputId": "ddd8b194-fef7-49c8-8904-84d472363d9f"
      },
      "source": [
        "df1.head()"
      ],
      "execution_count": null,
      "outputs": [
        {
          "output_type": "execute_result",
          "data": {
            "text/html": [
              "<div>\n",
              "<style scoped>\n",
              "    .dataframe tbody tr th:only-of-type {\n",
              "        vertical-align: middle;\n",
              "    }\n",
              "\n",
              "    .dataframe tbody tr th {\n",
              "        vertical-align: top;\n",
              "    }\n",
              "\n",
              "    .dataframe thead th {\n",
              "        text-align: right;\n",
              "    }\n",
              "</style>\n",
              "<table border=\"1\" class=\"dataframe\">\n",
              "  <thead>\n",
              "    <tr style=\"text-align: right;\">\n",
              "      <th></th>\n",
              "      <th>Deal_value</th>\n",
              "      <th>Pitch</th>\n",
              "      <th>Lead_revenue</th>\n",
              "      <th>Fund_category</th>\n",
              "      <th>Lead_source</th>\n",
              "      <th>Level_of_meeting</th>\n",
              "      <th>Resource</th>\n",
              "      <th>Internal_rating</th>\n",
              "      <th>Success_probability</th>\n",
              "    </tr>\n",
              "  </thead>\n",
              "  <tbody>\n",
              "    <tr>\n",
              "      <th>0</th>\n",
              "      <td>320506$</td>\n",
              "      <td>Product_2</td>\n",
              "      <td>50 - 100 Million</td>\n",
              "      <td>Category 2</td>\n",
              "      <td>Website</td>\n",
              "      <td>Level 3</td>\n",
              "      <td>NaN</td>\n",
              "      <td>3</td>\n",
              "      <td>73.6</td>\n",
              "    </tr>\n",
              "    <tr>\n",
              "      <th>1</th>\n",
              "      <td>39488$</td>\n",
              "      <td>Product_2</td>\n",
              "      <td>500 Million - 1 Billion</td>\n",
              "      <td>Category 4</td>\n",
              "      <td>Others</td>\n",
              "      <td>Level 1</td>\n",
              "      <td>No</td>\n",
              "      <td>5</td>\n",
              "      <td>58.9</td>\n",
              "    </tr>\n",
              "    <tr>\n",
              "      <th>2</th>\n",
              "      <td>359392$</td>\n",
              "      <td>Product_1</td>\n",
              "      <td>500 Million - 1 Billion</td>\n",
              "      <td>Category 4</td>\n",
              "      <td>Marketing Event</td>\n",
              "      <td>Level 1</td>\n",
              "      <td>No</td>\n",
              "      <td>4</td>\n",
              "      <td>68.8</td>\n",
              "    </tr>\n",
              "    <tr>\n",
              "      <th>3</th>\n",
              "      <td>76774$</td>\n",
              "      <td>Product_2</td>\n",
              "      <td>500 Million - 1 Billion</td>\n",
              "      <td>Category 3</td>\n",
              "      <td>Contact Email</td>\n",
              "      <td>Level 2</td>\n",
              "      <td>We have all the requirements</td>\n",
              "      <td>1</td>\n",
              "      <td>64.5</td>\n",
              "    </tr>\n",
              "    <tr>\n",
              "      <th>4</th>\n",
              "      <td>483896$</td>\n",
              "      <td>Product_2</td>\n",
              "      <td>50 - 100 Million</td>\n",
              "      <td>Category 3</td>\n",
              "      <td>Website</td>\n",
              "      <td>Level 2</td>\n",
              "      <td>No</td>\n",
              "      <td>4</td>\n",
              "      <td>62.4</td>\n",
              "    </tr>\n",
              "  </tbody>\n",
              "</table>\n",
              "</div>"
            ],
            "text/plain": [
              "  Deal_value      Pitch  ... Internal_rating Success_probability\n",
              "0    320506$  Product_2  ...               3                73.6\n",
              "1     39488$  Product_2  ...               5                58.9\n",
              "2    359392$  Product_1  ...               4                68.8\n",
              "3     76774$  Product_2  ...               1                64.5\n",
              "4    483896$  Product_2  ...               4                62.4\n",
              "\n",
              "[5 rows x 9 columns]"
            ]
          },
          "metadata": {
            "tags": []
          },
          "execution_count": 185
        }
      ]
    },
    {
      "cell_type": "code",
      "metadata": {
        "colab": {
          "base_uri": "https://localhost:8080/",
          "height": 204
        },
        "id": "TZsRZDLObLcP",
        "outputId": "2cbd8907-1929-442e-db1f-150cae6469dd"
      },
      "source": [
        "test1.head()"
      ],
      "execution_count": null,
      "outputs": [
        {
          "output_type": "execute_result",
          "data": {
            "text/html": [
              "<div>\n",
              "<style scoped>\n",
              "    .dataframe tbody tr th:only-of-type {\n",
              "        vertical-align: middle;\n",
              "    }\n",
              "\n",
              "    .dataframe tbody tr th {\n",
              "        vertical-align: top;\n",
              "    }\n",
              "\n",
              "    .dataframe thead th {\n",
              "        text-align: right;\n",
              "    }\n",
              "</style>\n",
              "<table border=\"1\" class=\"dataframe\">\n",
              "  <thead>\n",
              "    <tr style=\"text-align: right;\">\n",
              "      <th></th>\n",
              "      <th>Deal_value</th>\n",
              "      <th>Pitch</th>\n",
              "      <th>Lead_revenue</th>\n",
              "      <th>Fund_category</th>\n",
              "      <th>Lead_source</th>\n",
              "      <th>Level_of_meeting</th>\n",
              "      <th>Resource</th>\n",
              "      <th>Internal_rating</th>\n",
              "    </tr>\n",
              "  </thead>\n",
              "  <tbody>\n",
              "    <tr>\n",
              "      <th>0</th>\n",
              "      <td>200988$</td>\n",
              "      <td>Product_1</td>\n",
              "      <td>100 - 500 Million</td>\n",
              "      <td>Category 4</td>\n",
              "      <td>Marketing Event</td>\n",
              "      <td>Level 1</td>\n",
              "      <td>No</td>\n",
              "      <td>-1.0</td>\n",
              "    </tr>\n",
              "    <tr>\n",
              "      <th>1</th>\n",
              "      <td>409961$</td>\n",
              "      <td>Product_1</td>\n",
              "      <td>100 - 500 Million</td>\n",
              "      <td>Category 3</td>\n",
              "      <td>Marketing Event</td>\n",
              "      <td>Level 2</td>\n",
              "      <td>Yes</td>\n",
              "      <td>1.0</td>\n",
              "    </tr>\n",
              "    <tr>\n",
              "      <th>2</th>\n",
              "      <td>434433$</td>\n",
              "      <td>Product_1</td>\n",
              "      <td>100 - 500 Million</td>\n",
              "      <td>Category 1</td>\n",
              "      <td>Marketing Event</td>\n",
              "      <td>Level 2</td>\n",
              "      <td>Deliverable</td>\n",
              "      <td>5.0</td>\n",
              "    </tr>\n",
              "    <tr>\n",
              "      <th>3</th>\n",
              "      <td>218952$</td>\n",
              "      <td>Product_2</td>\n",
              "      <td>100 - 500 Million</td>\n",
              "      <td>Category 1</td>\n",
              "      <td>Contact Email</td>\n",
              "      <td>Level 3</td>\n",
              "      <td>No</td>\n",
              "      <td>5.0</td>\n",
              "    </tr>\n",
              "    <tr>\n",
              "      <th>4</th>\n",
              "      <td>392835$</td>\n",
              "      <td>Product_1</td>\n",
              "      <td>500 Million - 1 Billion</td>\n",
              "      <td>Category 3</td>\n",
              "      <td>Others</td>\n",
              "      <td>Level 3</td>\n",
              "      <td>Deliverable</td>\n",
              "      <td>2.0</td>\n",
              "    </tr>\n",
              "  </tbody>\n",
              "</table>\n",
              "</div>"
            ],
            "text/plain": [
              "  Deal_value      Pitch  ...     Resource Internal_rating\n",
              "0    200988$  Product_1  ...           No            -1.0\n",
              "1    409961$  Product_1  ...          Yes             1.0\n",
              "2    434433$  Product_1  ...  Deliverable             5.0\n",
              "3    218952$  Product_2  ...           No             5.0\n",
              "4    392835$  Product_1  ...  Deliverable             2.0\n",
              "\n",
              "[5 rows x 8 columns]"
            ]
          },
          "metadata": {
            "tags": []
          },
          "execution_count": 186
        }
      ]
    },
    {
      "cell_type": "code",
      "metadata": {
        "id": "v7-NN0I7bLcS"
      },
      "source": [
        "df1['Deal_value'] = df1['Deal_value'].str.replace('$', '').astype(float)\n",
        "test1['Deal_value'] = test1['Deal_value'].str.replace('$', '').astype(float)"
      ],
      "execution_count": null,
      "outputs": []
    },
    {
      "cell_type": "code",
      "metadata": {
        "colab": {
          "base_uri": "https://localhost:8080/",
          "height": 258
        },
        "id": "9RTrN8OGe4Vv",
        "outputId": "bb08c23a-8815-437b-aa14-f336f95e142a"
      },
      "source": [
        "df1=pd.get_dummies(df1)\n",
        "test1=pd.get_dummies(test1)\n",
        "X = df1.drop(['Success_probability'],axis=1)\n",
        "Y = df1['Success_probability']\n",
        "X.head()"
      ],
      "execution_count": null,
      "outputs": [
        {
          "output_type": "execute_result",
          "data": {
            "text/html": [
              "<div>\n",
              "<style scoped>\n",
              "    .dataframe tbody tr th:only-of-type {\n",
              "        vertical-align: middle;\n",
              "    }\n",
              "\n",
              "    .dataframe tbody tr th {\n",
              "        vertical-align: top;\n",
              "    }\n",
              "\n",
              "    .dataframe thead th {\n",
              "        text-align: right;\n",
              "    }\n",
              "</style>\n",
              "<table border=\"1\" class=\"dataframe\">\n",
              "  <thead>\n",
              "    <tr style=\"text-align: right;\">\n",
              "      <th></th>\n",
              "      <th>Deal_value</th>\n",
              "      <th>Internal_rating</th>\n",
              "      <th>Pitch_Product_1</th>\n",
              "      <th>Pitch_Product_2</th>\n",
              "      <th>Lead_revenue_100 - 500 Million</th>\n",
              "      <th>Lead_revenue_50 - 100 Million</th>\n",
              "      <th>Lead_revenue_500 Million - 1 Billion</th>\n",
              "      <th>Fund_category_Category 1</th>\n",
              "      <th>Fund_category_Category 2</th>\n",
              "      <th>Fund_category_Category 3</th>\n",
              "      <th>Fund_category_Category 4</th>\n",
              "      <th>Lead_source_Contact Email</th>\n",
              "      <th>Lead_source_Marketing Event</th>\n",
              "      <th>Lead_source_Others</th>\n",
              "      <th>Lead_source_Website</th>\n",
              "      <th>Level_of_meeting_Level 1</th>\n",
              "      <th>Level_of_meeting_Level 2</th>\n",
              "      <th>Level_of_meeting_Level 3</th>\n",
              "      <th>Resource_Cannot deliver</th>\n",
              "      <th>Resource_Deliverable</th>\n",
              "      <th>Resource_No</th>\n",
              "      <th>Resource_Not enough</th>\n",
              "      <th>Resource_We have all the requirements</th>\n",
              "      <th>Resource_Yes</th>\n",
              "    </tr>\n",
              "  </thead>\n",
              "  <tbody>\n",
              "    <tr>\n",
              "      <th>0</th>\n",
              "      <td>320506.0</td>\n",
              "      <td>3</td>\n",
              "      <td>0</td>\n",
              "      <td>1</td>\n",
              "      <td>0</td>\n",
              "      <td>1</td>\n",
              "      <td>0</td>\n",
              "      <td>0</td>\n",
              "      <td>1</td>\n",
              "      <td>0</td>\n",
              "      <td>0</td>\n",
              "      <td>0</td>\n",
              "      <td>0</td>\n",
              "      <td>0</td>\n",
              "      <td>1</td>\n",
              "      <td>0</td>\n",
              "      <td>0</td>\n",
              "      <td>1</td>\n",
              "      <td>0</td>\n",
              "      <td>0</td>\n",
              "      <td>0</td>\n",
              "      <td>0</td>\n",
              "      <td>0</td>\n",
              "      <td>0</td>\n",
              "    </tr>\n",
              "    <tr>\n",
              "      <th>1</th>\n",
              "      <td>39488.0</td>\n",
              "      <td>5</td>\n",
              "      <td>0</td>\n",
              "      <td>1</td>\n",
              "      <td>0</td>\n",
              "      <td>0</td>\n",
              "      <td>1</td>\n",
              "      <td>0</td>\n",
              "      <td>0</td>\n",
              "      <td>0</td>\n",
              "      <td>1</td>\n",
              "      <td>0</td>\n",
              "      <td>0</td>\n",
              "      <td>1</td>\n",
              "      <td>0</td>\n",
              "      <td>1</td>\n",
              "      <td>0</td>\n",
              "      <td>0</td>\n",
              "      <td>0</td>\n",
              "      <td>0</td>\n",
              "      <td>1</td>\n",
              "      <td>0</td>\n",
              "      <td>0</td>\n",
              "      <td>0</td>\n",
              "    </tr>\n",
              "    <tr>\n",
              "      <th>2</th>\n",
              "      <td>359392.0</td>\n",
              "      <td>4</td>\n",
              "      <td>1</td>\n",
              "      <td>0</td>\n",
              "      <td>0</td>\n",
              "      <td>0</td>\n",
              "      <td>1</td>\n",
              "      <td>0</td>\n",
              "      <td>0</td>\n",
              "      <td>0</td>\n",
              "      <td>1</td>\n",
              "      <td>0</td>\n",
              "      <td>1</td>\n",
              "      <td>0</td>\n",
              "      <td>0</td>\n",
              "      <td>1</td>\n",
              "      <td>0</td>\n",
              "      <td>0</td>\n",
              "      <td>0</td>\n",
              "      <td>0</td>\n",
              "      <td>1</td>\n",
              "      <td>0</td>\n",
              "      <td>0</td>\n",
              "      <td>0</td>\n",
              "    </tr>\n",
              "    <tr>\n",
              "      <th>3</th>\n",
              "      <td>76774.0</td>\n",
              "      <td>1</td>\n",
              "      <td>0</td>\n",
              "      <td>1</td>\n",
              "      <td>0</td>\n",
              "      <td>0</td>\n",
              "      <td>1</td>\n",
              "      <td>0</td>\n",
              "      <td>0</td>\n",
              "      <td>1</td>\n",
              "      <td>0</td>\n",
              "      <td>1</td>\n",
              "      <td>0</td>\n",
              "      <td>0</td>\n",
              "      <td>0</td>\n",
              "      <td>0</td>\n",
              "      <td>1</td>\n",
              "      <td>0</td>\n",
              "      <td>0</td>\n",
              "      <td>0</td>\n",
              "      <td>0</td>\n",
              "      <td>0</td>\n",
              "      <td>1</td>\n",
              "      <td>0</td>\n",
              "    </tr>\n",
              "    <tr>\n",
              "      <th>4</th>\n",
              "      <td>483896.0</td>\n",
              "      <td>4</td>\n",
              "      <td>0</td>\n",
              "      <td>1</td>\n",
              "      <td>0</td>\n",
              "      <td>1</td>\n",
              "      <td>0</td>\n",
              "      <td>0</td>\n",
              "      <td>0</td>\n",
              "      <td>1</td>\n",
              "      <td>0</td>\n",
              "      <td>0</td>\n",
              "      <td>0</td>\n",
              "      <td>0</td>\n",
              "      <td>1</td>\n",
              "      <td>0</td>\n",
              "      <td>1</td>\n",
              "      <td>0</td>\n",
              "      <td>0</td>\n",
              "      <td>0</td>\n",
              "      <td>1</td>\n",
              "      <td>0</td>\n",
              "      <td>0</td>\n",
              "      <td>0</td>\n",
              "    </tr>\n",
              "  </tbody>\n",
              "</table>\n",
              "</div>"
            ],
            "text/plain": [
              "   Deal_value  ...  Resource_Yes\n",
              "0    320506.0  ...             0\n",
              "1     39488.0  ...             0\n",
              "2    359392.0  ...             0\n",
              "3     76774.0  ...             0\n",
              "4    483896.0  ...             0\n",
              "\n",
              "[5 rows x 24 columns]"
            ]
          },
          "metadata": {
            "tags": []
          },
          "execution_count": 188
        }
      ]
    },
    {
      "cell_type": "code",
      "metadata": {
        "colab": {
          "base_uri": "https://localhost:8080/"
        },
        "id": "GNazkieAfc2h",
        "outputId": "311ceab1-280e-4445-b5ea-cd2562f8f59c"
      },
      "source": [
        "model = xgb.XGBRegressor()\n",
        "model.fit(X,Y)"
      ],
      "execution_count": null,
      "outputs": [
        {
          "output_type": "stream",
          "text": [
            "[16:11:08] WARNING: /workspace/src/objective/regression_obj.cu:152: reg:linear is now deprecated in favor of reg:squarederror.\n"
          ],
          "name": "stdout"
        },
        {
          "output_type": "execute_result",
          "data": {
            "text/plain": [
              "XGBRegressor(base_score=0.5, booster='gbtree', colsample_bylevel=1,\n",
              "             colsample_bynode=1, colsample_bytree=1, gamma=0,\n",
              "             importance_type='gain', learning_rate=0.1, max_delta_step=0,\n",
              "             max_depth=3, min_child_weight=1, missing=None, n_estimators=100,\n",
              "             n_jobs=1, nthread=None, objective='reg:linear', random_state=0,\n",
              "             reg_alpha=0, reg_lambda=1, scale_pos_weight=1, seed=None,\n",
              "             silent=None, subsample=1, verbosity=1)"
            ]
          },
          "metadata": {
            "tags": []
          },
          "execution_count": 189
        }
      ]
    },
    {
      "cell_type": "code",
      "metadata": {
        "id": "PaDOLbkqfhRV"
      },
      "source": [
        "Y_pred = model.predict(test1)\n",
        "\n"
      ],
      "execution_count": null,
      "outputs": []
    },
    {
      "cell_type": "code",
      "metadata": {
        "colab": {
          "base_uri": "https://localhost:8080/"
        },
        "id": "9t4khFxNgBB6",
        "outputId": "478e4264-3bc8-4669-e23a-91abc3e76355"
      },
      "source": [
        "Y_pred"
      ],
      "execution_count": null,
      "outputs": [
        {
          "output_type": "execute_result",
          "data": {
            "text/plain": [
              "array([62.200947, 61.010414, 67.864204, ..., 61.448235, 63.918583,\n",
              "       63.208748], dtype=float32)"
            ]
          },
          "metadata": {
            "tags": []
          },
          "execution_count": 222
        }
      ]
    },
    {
      "cell_type": "code",
      "metadata": {
        "id": "1LbvF268gNk5"
      },
      "source": [
        "Y_pred=pd.DataFrame(Y_pred)\n",
        "Y_pred=pd.concat([deal,Y_pred],axis=1)\n",
        "Y_pred.columns=['Deal_title','Success_probability']"
      ],
      "execution_count": null,
      "outputs": []
    },
    {
      "cell_type": "code",
      "metadata": {
        "colab": {
          "base_uri": "https://localhost:8080/",
          "height": 419
        },
        "id": "TghZi7HpgOcB",
        "outputId": "9e1d6275-9476-438f-da4a-22323962d01f"
      },
      "source": [
        "Y_pred"
      ],
      "execution_count": null,
      "outputs": [
        {
          "output_type": "execute_result",
          "data": {
            "text/html": [
              "<div>\n",
              "<style scoped>\n",
              "    .dataframe tbody tr th:only-of-type {\n",
              "        vertical-align: middle;\n",
              "    }\n",
              "\n",
              "    .dataframe tbody tr th {\n",
              "        vertical-align: top;\n",
              "    }\n",
              "\n",
              "    .dataframe thead th {\n",
              "        text-align: right;\n",
              "    }\n",
              "</style>\n",
              "<table border=\"1\" class=\"dataframe\">\n",
              "  <thead>\n",
              "    <tr style=\"text-align: right;\">\n",
              "      <th></th>\n",
              "      <th>Deal_title</th>\n",
              "      <th>Success_probability</th>\n",
              "    </tr>\n",
              "  </thead>\n",
              "  <tbody>\n",
              "    <tr>\n",
              "      <th>0</th>\n",
              "      <td>TitleAD16O</td>\n",
              "      <td>62.200947</td>\n",
              "    </tr>\n",
              "    <tr>\n",
              "      <th>1</th>\n",
              "      <td>TitleOW6CR</td>\n",
              "      <td>61.010414</td>\n",
              "    </tr>\n",
              "    <tr>\n",
              "      <th>2</th>\n",
              "      <td>TitleVVJQ5</td>\n",
              "      <td>67.864204</td>\n",
              "    </tr>\n",
              "    <tr>\n",
              "      <th>3</th>\n",
              "      <td>TitleUS8NA</td>\n",
              "      <td>69.176857</td>\n",
              "    </tr>\n",
              "    <tr>\n",
              "      <th>4</th>\n",
              "      <td>Title5VGWW</td>\n",
              "      <td>64.475937</td>\n",
              "    </tr>\n",
              "    <tr>\n",
              "      <th>...</th>\n",
              "      <td>...</td>\n",
              "      <td>...</td>\n",
              "    </tr>\n",
              "    <tr>\n",
              "      <th>2088</th>\n",
              "      <td>Title2R8VU</td>\n",
              "      <td>63.807365</td>\n",
              "    </tr>\n",
              "    <tr>\n",
              "      <th>2089</th>\n",
              "      <td>Title7HCNJ</td>\n",
              "      <td>64.432190</td>\n",
              "    </tr>\n",
              "    <tr>\n",
              "      <th>2090</th>\n",
              "      <td>TitleCD5YZ</td>\n",
              "      <td>61.448235</td>\n",
              "    </tr>\n",
              "    <tr>\n",
              "      <th>2091</th>\n",
              "      <td>Title8OKXL</td>\n",
              "      <td>63.918583</td>\n",
              "    </tr>\n",
              "    <tr>\n",
              "      <th>2092</th>\n",
              "      <td>TitleHFQT8</td>\n",
              "      <td>63.208748</td>\n",
              "    </tr>\n",
              "  </tbody>\n",
              "</table>\n",
              "<p>2093 rows × 2 columns</p>\n",
              "</div>"
            ],
            "text/plain": [
              "      Deal_title  Success_probability\n",
              "0     TitleAD16O            62.200947\n",
              "1     TitleOW6CR            61.010414\n",
              "2     TitleVVJQ5            67.864204\n",
              "3     TitleUS8NA            69.176857\n",
              "4     Title5VGWW            64.475937\n",
              "...          ...                  ...\n",
              "2088  Title2R8VU            63.807365\n",
              "2089  Title7HCNJ            64.432190\n",
              "2090  TitleCD5YZ            61.448235\n",
              "2091  Title8OKXL            63.918583\n",
              "2092  TitleHFQT8            63.208748\n",
              "\n",
              "[2093 rows x 2 columns]"
            ]
          },
          "metadata": {
            "tags": []
          },
          "execution_count": 232
        }
      ]
    },
    {
      "cell_type": "code",
      "metadata": {
        "colab": {
          "base_uri": "https://localhost:8080/",
          "height": 17
        },
        "id": "Lzy76b9TjK-Y",
        "outputId": "db32a95a-0db1-4965-a65a-603984d368cf"
      },
      "source": [
        "from google.colab import files\n",
        "Y_pred.to_csv('XG.csv') \n",
        "files.download('XG.csv')\n"
      ],
      "execution_count": null,
      "outputs": [
        {
          "output_type": "display_data",
          "data": {
            "application/javascript": [
              "\n",
              "    async function download(id, filename, size) {\n",
              "      if (!google.colab.kernel.accessAllowed) {\n",
              "        return;\n",
              "      }\n",
              "      const div = document.createElement('div');\n",
              "      const label = document.createElement('label');\n",
              "      label.textContent = `Downloading \"${filename}\": `;\n",
              "      div.appendChild(label);\n",
              "      const progress = document.createElement('progress');\n",
              "      progress.max = size;\n",
              "      div.appendChild(progress);\n",
              "      document.body.appendChild(div);\n",
              "\n",
              "      const buffers = [];\n",
              "      let downloaded = 0;\n",
              "\n",
              "      const channel = await google.colab.kernel.comms.open(id);\n",
              "      // Send a message to notify the kernel that we're ready.\n",
              "      channel.send({})\n",
              "\n",
              "      for await (const message of channel.messages) {\n",
              "        // Send a message to notify the kernel that we're ready.\n",
              "        channel.send({})\n",
              "        if (message.buffers) {\n",
              "          for (const buffer of message.buffers) {\n",
              "            buffers.push(buffer);\n",
              "            downloaded += buffer.byteLength;\n",
              "            progress.value = downloaded;\n",
              "          }\n",
              "        }\n",
              "      }\n",
              "      const blob = new Blob(buffers, {type: 'application/binary'});\n",
              "      const a = document.createElement('a');\n",
              "      a.href = window.URL.createObjectURL(blob);\n",
              "      a.download = filename;\n",
              "      div.appendChild(a);\n",
              "      a.click();\n",
              "      div.remove();\n",
              "    }\n",
              "  "
            ],
            "text/plain": [
              "<IPython.core.display.Javascript object>"
            ]
          },
          "metadata": {
            "tags": []
          }
        },
        {
          "output_type": "display_data",
          "data": {
            "application/javascript": [
              "download(\"download_b66b8052-ef12-4358-a2d8-d352dade8618\", \"XG.csv\", 51931)"
            ],
            "text/plain": [
              "<IPython.core.display.Javascript object>"
            ]
          },
          "metadata": {
            "tags": []
          }
        }
      ]
    },
    {
      "cell_type": "code",
      "metadata": {
        "id": "uraW295Tj4jN"
      },
      "source": [
        ""
      ],
      "execution_count": null,
      "outputs": []
    }
  ]
}