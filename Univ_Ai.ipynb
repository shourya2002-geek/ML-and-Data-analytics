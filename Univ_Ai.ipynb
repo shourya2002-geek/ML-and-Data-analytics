{
  "nbformat": 4,
  "nbformat_minor": 0,
  "metadata": {
    "colab": {
      "name": "Univ.Ai",
      "provenance": [],
      "collapsed_sections": [],
      "authorship_tag": "ABX9TyP46f8Jl4tQodxUwC76Ohyl",
      "include_colab_link": true
    },
    "kernelspec": {
      "name": "python3",
      "display_name": "Python 3"
    },
    "language_info": {
      "name": "python"
    }
  },
  "cells": [
    {
      "cell_type": "markdown",
      "metadata": {
        "id": "view-in-github",
        "colab_type": "text"
      },
      "source": [
        "<a href=\"https://colab.research.google.com/github/shourya2002-geek/ML-and-Data-analytics/blob/cardekho_dataset/Univ_Ai.ipynb\" target=\"_parent\"><img src=\"https://colab.research.google.com/assets/colab-badge.svg\" alt=\"Open In Colab\"/></a>"
      ]
    },
    {
      "cell_type": "code",
      "metadata": {
        "id": "r7tw0Ux7qAiW"
      },
      "source": [
        "import pandas as pd\n",
        "import numpy as np\n",
        "import sklearn\n",
        "from sklearn.model_selection import train_test_split\n",
        "import matplotlib.pyplot as plt\n",
        "import seaborn as sns\n",
        "from pandas_profiling import ProfileReport\n",
        "from sklearn import preprocessing\n",
        "from sklearn import preprocessing\n",
        "from sklearn.neighbors import KNeighborsClassifier\n",
        "from sklearn import metrics\n",
        "from sklearn.svm import SVC\n",
        "from sklearn.linear_model import LogisticRegression\n",
        "%matplotlib inline"
      ],
      "execution_count": 1,
      "outputs": []
    },
    {
      "cell_type": "code",
      "metadata": {
        "id": "u47IBeTDqBjK"
      },
      "source": [
        "from google.colab import drive"
      ],
      "execution_count": 2,
      "outputs": []
    },
    {
      "cell_type": "code",
      "metadata": {
        "id": "wwUM0xvaqJFk",
        "colab": {
          "base_uri": "https://localhost:8080/"
        },
        "outputId": "015ee73d-5801-4f74-83c1-81bb6ee0e3ca"
      },
      "source": [
        "drive.mount('/content/drive')"
      ],
      "execution_count": 3,
      "outputs": [
        {
          "output_type": "stream",
          "text": [
            "Drive already mounted at /content/drive; to attempt to forcibly remount, call drive.mount(\"/content/drive\", force_remount=True).\n"
          ],
          "name": "stdout"
        }
      ]
    },
    {
      "cell_type": "code",
      "metadata": {
        "id": "LcdLz2LmqLZV"
      },
      "source": [
        "df = pd.read_csv(\"/content/drive/MyDrive/Data/Training Data.csv\")"
      ],
      "execution_count": 4,
      "outputs": []
    },
    {
      "cell_type": "code",
      "metadata": {
        "id": "FOjiUEQuqRn1",
        "colab": {
          "base_uri": "https://localhost:8080/",
          "height": 224
        },
        "outputId": "01f626a8-e008-47c0-a06e-006dde41aca8"
      },
      "source": [
        "df.head()"
      ],
      "execution_count": 5,
      "outputs": [
        {
          "output_type": "execute_result",
          "data": {
            "text/html": [
              "<div>\n",
              "<style scoped>\n",
              "    .dataframe tbody tr th:only-of-type {\n",
              "        vertical-align: middle;\n",
              "    }\n",
              "\n",
              "    .dataframe tbody tr th {\n",
              "        vertical-align: top;\n",
              "    }\n",
              "\n",
              "    .dataframe thead th {\n",
              "        text-align: right;\n",
              "    }\n",
              "</style>\n",
              "<table border=\"1\" class=\"dataframe\">\n",
              "  <thead>\n",
              "    <tr style=\"text-align: right;\">\n",
              "      <th></th>\n",
              "      <th>Id</th>\n",
              "      <th>income</th>\n",
              "      <th>age</th>\n",
              "      <th>experience</th>\n",
              "      <th>married</th>\n",
              "      <th>house_ownership</th>\n",
              "      <th>car_ownership</th>\n",
              "      <th>profession</th>\n",
              "      <th>city</th>\n",
              "      <th>state</th>\n",
              "      <th>current_job_years</th>\n",
              "      <th>current_house_years</th>\n",
              "      <th>risk_flag</th>\n",
              "    </tr>\n",
              "  </thead>\n",
              "  <tbody>\n",
              "    <tr>\n",
              "      <th>0</th>\n",
              "      <td>1</td>\n",
              "      <td>1303835</td>\n",
              "      <td>23</td>\n",
              "      <td>3</td>\n",
              "      <td>single</td>\n",
              "      <td>rented</td>\n",
              "      <td>no</td>\n",
              "      <td>Mechanical_engineer</td>\n",
              "      <td>Rewa</td>\n",
              "      <td>Madhya_Pradesh</td>\n",
              "      <td>3</td>\n",
              "      <td>13</td>\n",
              "      <td>0</td>\n",
              "    </tr>\n",
              "    <tr>\n",
              "      <th>1</th>\n",
              "      <td>2</td>\n",
              "      <td>7574516</td>\n",
              "      <td>40</td>\n",
              "      <td>10</td>\n",
              "      <td>single</td>\n",
              "      <td>rented</td>\n",
              "      <td>no</td>\n",
              "      <td>Software_Developer</td>\n",
              "      <td>Parbhani</td>\n",
              "      <td>Maharashtra</td>\n",
              "      <td>9</td>\n",
              "      <td>13</td>\n",
              "      <td>0</td>\n",
              "    </tr>\n",
              "    <tr>\n",
              "      <th>2</th>\n",
              "      <td>3</td>\n",
              "      <td>3991815</td>\n",
              "      <td>66</td>\n",
              "      <td>4</td>\n",
              "      <td>married</td>\n",
              "      <td>rented</td>\n",
              "      <td>no</td>\n",
              "      <td>Technical_writer</td>\n",
              "      <td>Alappuzha</td>\n",
              "      <td>Kerala</td>\n",
              "      <td>4</td>\n",
              "      <td>10</td>\n",
              "      <td>0</td>\n",
              "    </tr>\n",
              "    <tr>\n",
              "      <th>3</th>\n",
              "      <td>4</td>\n",
              "      <td>6256451</td>\n",
              "      <td>41</td>\n",
              "      <td>2</td>\n",
              "      <td>single</td>\n",
              "      <td>rented</td>\n",
              "      <td>yes</td>\n",
              "      <td>Software_Developer</td>\n",
              "      <td>Bhubaneswar</td>\n",
              "      <td>Odisha</td>\n",
              "      <td>2</td>\n",
              "      <td>12</td>\n",
              "      <td>1</td>\n",
              "    </tr>\n",
              "    <tr>\n",
              "      <th>4</th>\n",
              "      <td>5</td>\n",
              "      <td>5768871</td>\n",
              "      <td>47</td>\n",
              "      <td>11</td>\n",
              "      <td>single</td>\n",
              "      <td>rented</td>\n",
              "      <td>no</td>\n",
              "      <td>Civil_servant</td>\n",
              "      <td>Tiruchirappalli[10]</td>\n",
              "      <td>Tamil_Nadu</td>\n",
              "      <td>3</td>\n",
              "      <td>14</td>\n",
              "      <td>1</td>\n",
              "    </tr>\n",
              "  </tbody>\n",
              "</table>\n",
              "</div>"
            ],
            "text/plain": [
              "   Id   income  age  ...  current_job_years current_house_years risk_flag\n",
              "0   1  1303835   23  ...                  3                  13         0\n",
              "1   2  7574516   40  ...                  9                  13         0\n",
              "2   3  3991815   66  ...                  4                  10         0\n",
              "3   4  6256451   41  ...                  2                  12         1\n",
              "4   5  5768871   47  ...                  3                  14         1\n",
              "\n",
              "[5 rows x 13 columns]"
            ]
          },
          "metadata": {
            "tags": []
          },
          "execution_count": 5
        }
      ]
    },
    {
      "cell_type": "code",
      "metadata": {
        "id": "tEB1LyqSqVda",
        "colab": {
          "base_uri": "https://localhost:8080/",
          "height": 204
        },
        "outputId": "ad67d82e-1296-4c04-8243-7b0b1a53fd22"
      },
      "source": [
        "df.drop(['Id','city','state'],axis=1,inplace=True)\n",
        "df.head()"
      ],
      "execution_count": 6,
      "outputs": [
        {
          "output_type": "execute_result",
          "data": {
            "text/html": [
              "<div>\n",
              "<style scoped>\n",
              "    .dataframe tbody tr th:only-of-type {\n",
              "        vertical-align: middle;\n",
              "    }\n",
              "\n",
              "    .dataframe tbody tr th {\n",
              "        vertical-align: top;\n",
              "    }\n",
              "\n",
              "    .dataframe thead th {\n",
              "        text-align: right;\n",
              "    }\n",
              "</style>\n",
              "<table border=\"1\" class=\"dataframe\">\n",
              "  <thead>\n",
              "    <tr style=\"text-align: right;\">\n",
              "      <th></th>\n",
              "      <th>income</th>\n",
              "      <th>age</th>\n",
              "      <th>experience</th>\n",
              "      <th>married</th>\n",
              "      <th>house_ownership</th>\n",
              "      <th>car_ownership</th>\n",
              "      <th>profession</th>\n",
              "      <th>current_job_years</th>\n",
              "      <th>current_house_years</th>\n",
              "      <th>risk_flag</th>\n",
              "    </tr>\n",
              "  </thead>\n",
              "  <tbody>\n",
              "    <tr>\n",
              "      <th>0</th>\n",
              "      <td>1303835</td>\n",
              "      <td>23</td>\n",
              "      <td>3</td>\n",
              "      <td>single</td>\n",
              "      <td>rented</td>\n",
              "      <td>no</td>\n",
              "      <td>Mechanical_engineer</td>\n",
              "      <td>3</td>\n",
              "      <td>13</td>\n",
              "      <td>0</td>\n",
              "    </tr>\n",
              "    <tr>\n",
              "      <th>1</th>\n",
              "      <td>7574516</td>\n",
              "      <td>40</td>\n",
              "      <td>10</td>\n",
              "      <td>single</td>\n",
              "      <td>rented</td>\n",
              "      <td>no</td>\n",
              "      <td>Software_Developer</td>\n",
              "      <td>9</td>\n",
              "      <td>13</td>\n",
              "      <td>0</td>\n",
              "    </tr>\n",
              "    <tr>\n",
              "      <th>2</th>\n",
              "      <td>3991815</td>\n",
              "      <td>66</td>\n",
              "      <td>4</td>\n",
              "      <td>married</td>\n",
              "      <td>rented</td>\n",
              "      <td>no</td>\n",
              "      <td>Technical_writer</td>\n",
              "      <td>4</td>\n",
              "      <td>10</td>\n",
              "      <td>0</td>\n",
              "    </tr>\n",
              "    <tr>\n",
              "      <th>3</th>\n",
              "      <td>6256451</td>\n",
              "      <td>41</td>\n",
              "      <td>2</td>\n",
              "      <td>single</td>\n",
              "      <td>rented</td>\n",
              "      <td>yes</td>\n",
              "      <td>Software_Developer</td>\n",
              "      <td>2</td>\n",
              "      <td>12</td>\n",
              "      <td>1</td>\n",
              "    </tr>\n",
              "    <tr>\n",
              "      <th>4</th>\n",
              "      <td>5768871</td>\n",
              "      <td>47</td>\n",
              "      <td>11</td>\n",
              "      <td>single</td>\n",
              "      <td>rented</td>\n",
              "      <td>no</td>\n",
              "      <td>Civil_servant</td>\n",
              "      <td>3</td>\n",
              "      <td>14</td>\n",
              "      <td>1</td>\n",
              "    </tr>\n",
              "  </tbody>\n",
              "</table>\n",
              "</div>"
            ],
            "text/plain": [
              "    income  age  experience  ... current_job_years current_house_years risk_flag\n",
              "0  1303835   23           3  ...                 3                  13         0\n",
              "1  7574516   40          10  ...                 9                  13         0\n",
              "2  3991815   66           4  ...                 4                  10         0\n",
              "3  6256451   41           2  ...                 2                  12         1\n",
              "4  5768871   47          11  ...                 3                  14         1\n",
              "\n",
              "[5 rows x 10 columns]"
            ]
          },
          "metadata": {
            "tags": []
          },
          "execution_count": 6
        }
      ]
    },
    {
      "cell_type": "code",
      "metadata": {
        "id": "iKyDDnYfqYEj"
      },
      "source": [
        "s1 = pd.get_dummies(df['married'])\n",
        "df = pd.concat([df,s1],axis=1)\n",
        "s2 = pd.get_dummies(df['house_ownership'])\n",
        "df = pd.concat([df,s2],axis=1)\n",
        "s3 = pd.get_dummies(df['car_ownership'])\n",
        "df = pd.concat([df,s3],axis=1)\n",
        "s4 = pd.get_dummies(df['profession'])\n",
        "df = pd.concat([df,s4],axis=1)\n",
        "\n",
        "df.drop(['married','house_ownership','car_ownership','profession'],axis=1,inplace=True)"
      ],
      "execution_count": 7,
      "outputs": []
    },
    {
      "cell_type": "code",
      "metadata": {
        "id": "AU5OYAueqbIP",
        "colab": {
          "base_uri": "https://localhost:8080/"
        },
        "outputId": "2be03972-efb3-4320-b6a5-853cd0410e66"
      },
      "source": [
        "cols = df.columns.tolist()\n",
        "cols"
      ],
      "execution_count": 8,
      "outputs": [
        {
          "output_type": "execute_result",
          "data": {
            "text/plain": [
              "['income',\n",
              " 'age',\n",
              " 'experience',\n",
              " 'current_job_years',\n",
              " 'current_house_years',\n",
              " 'risk_flag',\n",
              " 'single',\n",
              " 'norent_noown',\n",
              " 'owned',\n",
              " 'rented',\n",
              " 'no',\n",
              " 'yes',\n",
              " 'Air_traffic_controller',\n",
              " 'Analyst',\n",
              " 'Architect',\n",
              " 'Army_officer',\n",
              " 'Artist',\n",
              " 'Aviator',\n",
              " 'Biomedical_Engineer',\n",
              " 'Chartered_Accountant',\n",
              " 'Chef',\n",
              " 'Chemical_engineer',\n",
              " 'Civil_engineer',\n",
              " 'Civil_servant',\n",
              " 'Comedian',\n",
              " 'Computer_hardware_engineer',\n",
              " 'Computer_operator',\n",
              " 'Consultant',\n",
              " 'Dentist',\n",
              " 'Design_Engineer',\n",
              " 'Designer',\n",
              " 'Drafter',\n",
              " 'Economist',\n",
              " 'Engineer',\n",
              " 'Fashion_Designer',\n",
              " 'Financial_Analyst',\n",
              " 'Firefighter',\n",
              " 'Flight_attendant',\n",
              " 'Geologist',\n",
              " 'Graphic_Designer',\n",
              " 'Hotel_Manager',\n",
              " 'Industrial_Engineer',\n",
              " 'Lawyer',\n",
              " 'Librarian',\n",
              " 'Magistrate',\n",
              " 'Mechanical_engineer',\n",
              " 'Microbiologist',\n",
              " 'Official',\n",
              " 'Petroleum_Engineer',\n",
              " 'Physician',\n",
              " 'Police_officer',\n",
              " 'Politician',\n",
              " 'Psychologist',\n",
              " 'Scientist',\n",
              " 'Secretary',\n",
              " 'Software_Developer',\n",
              " 'Statistician',\n",
              " 'Surgeon',\n",
              " 'Surveyor',\n",
              " 'Technical_writer',\n",
              " 'Technician',\n",
              " 'Technology_specialist',\n",
              " 'Web_designer']"
            ]
          },
          "metadata": {
            "tags": []
          },
          "execution_count": 8
        }
      ]
    },
    {
      "cell_type": "code",
      "metadata": {
        "id": "itZB2P6yqh2n",
        "colab": {
          "base_uri": "https://localhost:8080/"
        },
        "outputId": "5dc302f4-988c-4a43-fabe-d605ae6d4ac6"
      },
      "source": [
        "cols.insert(0, cols.pop(cols.index('risk_flag')))\n",
        "cols"
      ],
      "execution_count": 9,
      "outputs": [
        {
          "output_type": "execute_result",
          "data": {
            "text/plain": [
              "['risk_flag',\n",
              " 'income',\n",
              " 'age',\n",
              " 'experience',\n",
              " 'current_job_years',\n",
              " 'current_house_years',\n",
              " 'single',\n",
              " 'norent_noown',\n",
              " 'owned',\n",
              " 'rented',\n",
              " 'no',\n",
              " 'yes',\n",
              " 'Air_traffic_controller',\n",
              " 'Analyst',\n",
              " 'Architect',\n",
              " 'Army_officer',\n",
              " 'Artist',\n",
              " 'Aviator',\n",
              " 'Biomedical_Engineer',\n",
              " 'Chartered_Accountant',\n",
              " 'Chef',\n",
              " 'Chemical_engineer',\n",
              " 'Civil_engineer',\n",
              " 'Civil_servant',\n",
              " 'Comedian',\n",
              " 'Computer_hardware_engineer',\n",
              " 'Computer_operator',\n",
              " 'Consultant',\n",
              " 'Dentist',\n",
              " 'Design_Engineer',\n",
              " 'Designer',\n",
              " 'Drafter',\n",
              " 'Economist',\n",
              " 'Engineer',\n",
              " 'Fashion_Designer',\n",
              " 'Financial_Analyst',\n",
              " 'Firefighter',\n",
              " 'Flight_attendant',\n",
              " 'Geologist',\n",
              " 'Graphic_Designer',\n",
              " 'Hotel_Manager',\n",
              " 'Industrial_Engineer',\n",
              " 'Lawyer',\n",
              " 'Librarian',\n",
              " 'Magistrate',\n",
              " 'Mechanical_engineer',\n",
              " 'Microbiologist',\n",
              " 'Official',\n",
              " 'Petroleum_Engineer',\n",
              " 'Physician',\n",
              " 'Police_officer',\n",
              " 'Politician',\n",
              " 'Psychologist',\n",
              " 'Scientist',\n",
              " 'Secretary',\n",
              " 'Software_Developer',\n",
              " 'Statistician',\n",
              " 'Surgeon',\n",
              " 'Surveyor',\n",
              " 'Technical_writer',\n",
              " 'Technician',\n",
              " 'Technology_specialist',\n",
              " 'Web_designer']"
            ]
          },
          "metadata": {
            "tags": []
          },
          "execution_count": 9
        }
      ]
    },
    {
      "cell_type": "code",
      "metadata": {
        "id": "3xtsfKrtqnNB"
      },
      "source": [
        "df = df.reindex(columns= cols)"
      ],
      "execution_count": 10,
      "outputs": []
    },
    {
      "cell_type": "code",
      "metadata": {
        "id": "TZxsI7AIqwf8"
      },
      "source": [
        "X = df.iloc[:,1:]\n",
        "Y = df.iloc[:,:1]\n",
        "X = preprocessing.scale(X)\n",
        "X_train,X_test,Y_train,Y_test = train_test_split(X,Y,test_size=0.3,random_state=42)"
      ],
      "execution_count": 11,
      "outputs": []
    },
    {
      "cell_type": "code",
      "metadata": {
        "colab": {
          "base_uri": "https://localhost:8080/"
        },
        "id": "A_biSpgBwb4H",
        "outputId": "11ea316a-f31e-4db2-db24-6e069c0bf48f"
      },
      "source": [
        "from sklearn.tree import DecisionTreeClassifier\n",
        "DTClassifier= DecisionTreeClassifier(criterion='entropy', random_state=0)\n",
        "DTClassifier.fit(X_train,Y_train)\n",
        "\n"
      ],
      "execution_count": 13,
      "outputs": [
        {
          "output_type": "execute_result",
          "data": {
            "text/plain": [
              "DecisionTreeClassifier(ccp_alpha=0.0, class_weight=None, criterion='entropy',\n",
              "                       max_depth=None, max_features=None, max_leaf_nodes=None,\n",
              "                       min_impurity_decrease=0.0, min_impurity_split=None,\n",
              "                       min_samples_leaf=1, min_samples_split=2,\n",
              "                       min_weight_fraction_leaf=0.0, presort='deprecated',\n",
              "                       random_state=0, splitter='best')"
            ]
          },
          "metadata": {
            "tags": []
          },
          "execution_count": 13
        }
      ]
    },
    {
      "cell_type": "code",
      "metadata": {
        "colab": {
          "base_uri": "https://localhost:8080/"
        },
        "id": "VYdhacnwxn24",
        "outputId": "8bcb6265-287d-4b3e-f631-e5a7c85829ff"
      },
      "source": [
        "Y_pred = DTClassifier.predict(X_test)\n",
        "print(metrics.accuracy_score(Y_test,Y_pred))"
      ],
      "execution_count": 14,
      "outputs": [
        {
          "output_type": "stream",
          "text": [
            "0.8834656084656085\n"
          ],
          "name": "stdout"
        }
      ]
    },
    {
      "cell_type": "code",
      "metadata": {
        "colab": {
          "base_uri": "https://localhost:8080/"
        },
        "id": "RxD3KFbKxx_s",
        "outputId": "771c0a87-b2d4-429f-c900-8c35c655ac24"
      },
      "source": [
        "lg = LogisticRegression()\n",
        "lg.fit(X_train,np.ravel(Y_train))\n",
        "Y_pred2 = lg.predict(X_test)\n",
        "print(metrics.accuracy_score(Y_test,Y_pred2))"
      ],
      "execution_count": 17,
      "outputs": [
        {
          "output_type": "stream",
          "text": [
            "0.8773677248677249\n"
          ],
          "name": "stdout"
        }
      ]
    }
  ]
}